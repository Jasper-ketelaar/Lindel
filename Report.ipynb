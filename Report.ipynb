{
 "cells": [
  {
   "cell_type": "markdown",
   "source": [
    "## Overlap between our set and their set"
   ],
   "metadata": {
    "collapsed": false,
    "pycharm": {
     "name": "#%% md\n"
    }
   }
  },
  {
   "cell_type": "code",
   "execution_count": 1,
   "metadata": {
    "collapsed": true
   },
   "outputs": [
    {
     "name": "stdout",
     "output_type": "stream",
     "text": [
      "There are 473 entries in their 4790 that are not in 4716 of ours\n"
     ]
    }
   ],
   "source": [
    "'Assuming we are in base dir so cwd/ contains data files'\n",
    "\n",
    "import numpy as np\n",
    "their_training = np.loadtxt(\"cwd/Lindel_training.txt\", delimiter=\"\\t\", dtype=str)\n",
    "their_test = np.loadtxt('cwd/Lindel_test.txt', delimiter=\"\\t\", dtype=str)\n",
    "theirs = np.vstack((their_test, their_training))\n",
    "\n",
    "our_training = np.loadtxt(\"cwd/Our_Lindel_training.txt\", delimiter=\"\\t\", dtype=str)\n",
    "our_test = np.loadtxt(\"cwd/Our_Lindel_test.txt\", delimiter=\"\\t\", dtype=str)\n",
    "ours = np.vstack((our_training, our_test))\n",
    "\n",
    "their_seqs = theirs[:, 0]\n",
    "our_seqs = ours[:, 0]\n",
    "\n",
    "count = 0\n",
    "for seq in their_seqs:\n",
    "    if seq not in our_seqs:\n",
    "        count += 1\n",
    "print(f'There are {count} entries in their {len(their_seqs)} that are not in {len(our_seqs)} of ours')"
   ]
  }
 ],
 "metadata": {
  "kernelspec": {
   "display_name": "Python 3",
   "language": "python",
   "name": "python3"
  },
  "language_info": {
   "codemirror_mode": {
    "name": "ipython",
    "version": 2
   },
   "file_extension": ".py",
   "mimetype": "text/x-python",
   "name": "python",
   "nbconvert_exporter": "python",
   "pygments_lexer": "ipython2",
   "version": "2.7.6"
  }
 },
 "nbformat": 4,
 "nbformat_minor": 0
}