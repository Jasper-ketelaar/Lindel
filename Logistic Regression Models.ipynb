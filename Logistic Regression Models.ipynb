{
 "cells": [
  {
   "cell_type": "markdown",
   "metadata": {},
   "source": [
    "# Logistic Model Training"
   ]
  },
  {
   "cell_type": "code",
   "execution_count": 13,
   "metadata": {
    "pycharm": {
     "name": "#%%\n"
    }
   },
   "outputs": [
    {
     "data": {
      "application/vnd.jupyter.widget-view+json": {
       "model_id": "6a4636078642412f948c16206e925b35",
       "version_major": 2,
       "version_minor": 0
      },
      "text/plain": [
       "FileChooser(path='C:\\Users\\jaspe\\PycharmProjects\\Lindel', filename='', show_hidden='False')"
      ]
     },
     "metadata": {},
     "output_type": "display_data"
    }
   ],
   "source": [
    "import IPython.display as ids\n",
    "\n",
    "from scripts.logistic_model.notebook.feature_loader import FeatureLoader\n",
    "from scripts.logistic_model.notebook.lr_widget import LRWidget\n",
    "\n",
    "feat_loader = FeatureLoader()\n",
    "ids.display_pretty(feat_loader.training_chooser)"
   ]
  },
  {
   "cell_type": "markdown",
   "metadata": {},
   "source": [
    "### Variables determined from the loaded dataset"
   ]
  },
  {
   "cell_type": "code",
   "execution_count": 14,
   "metadata": {
    "pycharm": {
     "name": "#%%\n"
    },
    "scrolled": true
   },
   "outputs": [
    {
     "data": {
      "application/vnd.jupyter.widget-view+json": {
       "model_id": "4e4ed4eee99e47aa8eec52736c363bc8",
       "version_major": 2,
       "version_minor": 0
      },
      "text/plain": [
       "Output(layout=Layout(border='1px solid green'), outputs=({'output_type': 'stream', 'name': 'stdout', 'text': '…"
      ]
     },
     "metadata": {},
     "output_type": "display_data"
    }
   ],
   "source": [
    "feat_loader.output"
   ]
  },
  {
   "cell_type": "markdown",
   "metadata": {
    "pycharm": {
     "name": "#%% md\n"
    }
   },
   "source": [
    "## 1. Logistic model training: Insertions"
   ]
  },
  {
   "cell_type": "code",
   "execution_count": 15,
   "metadata": {
    "pycharm": {
     "name": "#%%\n"
    }
   },
   "outputs": [
    {
     "data": {
      "application/vnd.jupyter.widget-view+json": {
       "model_id": "9a60f56cc6134e82b6c62147079affc7",
       "version_major": 2,
       "version_minor": 0
      },
      "text/plain": [
       "Linear_Regression_Widget(\n",
       "            model = HTML(value='<h2>Insertion Model LR</h2>')\n",
       "        )"
      ]
     },
     "metadata": {},
     "output_type": "display_data"
    },
    {
     "data": {
      "application/vnd.jupyter.widget-view+json": {
       "model_id": "152bd8931a924f879d19523994d454c1",
       "version_major": 2,
       "version_minor": 0
      },
      "text/plain": [
       "  0%|          | 0/90 [00:00<?, ?it/s]"
      ]
     },
     "metadata": {},
     "output_type": "display_data"
    }
   ],
   "source": [
    "from scripts.logistic_model.insertion import InsertionModel\n",
    "if 'feat_loader' in vars() and feat_loader.ready:\n",
    "    lr = LRWidget('Insertion Model LR')\n",
    "    ids.display(lr)\n",
    "    model = InsertionModel(feat_loader.get_data_np())\n",
    "    lr.on_model_loaded(model)\n",
    "else:\n",
    "    print(\"Please choose a training set\")"
   ]
  },
  {
   "cell_type": "markdown",
   "metadata": {},
   "source": [
    "### Graphing the model performance"
   ]
  },
  {
   "cell_type": "code",
   "execution_count": 11,
   "metadata": {
    "pycharm": {
     "name": "#%%\n"
    }
   },
   "outputs": [
    {
     "ename": "TypeError",
     "evalue": "unsupported operand type(s) for +: 'NoneType' and 'str'",
     "output_type": "error",
     "traceback": [
      "\u001B[1;31m---------------------------------------------------------------------------\u001B[0m",
      "\u001B[1;31mTypeError\u001B[0m                                 Traceback (most recent call last)",
      "\u001B[1;32m<ipython-input-11-209ae29d4bba>\u001B[0m in \u001B[0;36m<module>\u001B[1;34m\u001B[0m\n\u001B[0;32m      2\u001B[0m \u001B[1;32mfrom\u001B[0m \u001B[0mmatplotlib\u001B[0m \u001B[1;32mimport\u001B[0m \u001B[0mpyplot\u001B[0m \u001B[1;32mas\u001B[0m \u001B[0mplt\u001B[0m\u001B[1;33m\u001B[0m\u001B[1;33m\u001B[0m\u001B[0m\n\u001B[0;32m      3\u001B[0m \u001B[0mx\u001B[0m \u001B[1;33m=\u001B[0m \u001B[1;36m10\u001B[0m \u001B[1;33m**\u001B[0m \u001B[0mnp\u001B[0m\u001B[1;33m.\u001B[0m\u001B[0marange\u001B[0m\u001B[1;33m(\u001B[0m\u001B[1;33m-\u001B[0m\u001B[1;36m10\u001B[0m\u001B[1;33m,\u001B[0m \u001B[1;33m-\u001B[0m\u001B[1;36m1\u001B[0m\u001B[1;33m,\u001B[0m \u001B[1;36m0.1\u001B[0m\u001B[1;33m)\u001B[0m\u001B[1;33m\u001B[0m\u001B[1;33m\u001B[0m\u001B[0m\n\u001B[1;32m----> 4\u001B[1;33m \u001B[0merrors_l1\u001B[0m \u001B[1;33m=\u001B[0m \u001B[0mnp\u001B[0m\u001B[1;33m.\u001B[0m\u001B[0mload\u001B[0m\u001B[1;33m(\u001B[0m\u001B[1;34mf'{feat_loader.data_directory}l1_insertion_model.npy'\u001B[0m\u001B[1;33m)\u001B[0m\u001B[1;33m\u001B[0m\u001B[1;33m\u001B[0m\u001B[0m\n\u001B[0m\u001B[0;32m      5\u001B[0m \u001B[0merrors_l2\u001B[0m \u001B[1;33m=\u001B[0m \u001B[0mnp\u001B[0m\u001B[1;33m.\u001B[0m\u001B[0mload\u001B[0m\u001B[1;33m(\u001B[0m\u001B[1;34mf'{feat_loader.data_directory}l2_insertion_model.npy'\u001B[0m\u001B[1;33m)\u001B[0m\u001B[1;33m\u001B[0m\u001B[1;33m\u001B[0m\u001B[0m\n\u001B[0;32m      6\u001B[0m \u001B[0mplt\u001B[0m\u001B[1;33m.\u001B[0m\u001B[0mxscale\u001B[0m\u001B[1;33m(\u001B[0m\u001B[1;34m'log'\u001B[0m\u001B[1;33m,\u001B[0m \u001B[0msubs\u001B[0m\u001B[1;33m=\u001B[0m\u001B[0mrange\u001B[0m\u001B[1;33m(\u001B[0m\u001B[1;36m1\u001B[0m\u001B[1;33m,\u001B[0m \u001B[1;36m6\u001B[0m\u001B[1;33m)\u001B[0m\u001B[1;33m)\u001B[0m\u001B[1;33m\u001B[0m\u001B[1;33m\u001B[0m\u001B[0m\n",
      "\u001B[1;32m~\\PycharmProjects\\Lindel\\scripts\\logistic_model\\notebook\\feature_loader.py\u001B[0m in \u001B[0;36mdata_directory\u001B[1;34m(self)\u001B[0m\n\u001B[0;32m     18\u001B[0m     \u001B[1;33m@\u001B[0m\u001B[0mproperty\u001B[0m\u001B[1;33m\u001B[0m\u001B[1;33m\u001B[0m\u001B[0m\n\u001B[0;32m     19\u001B[0m     \u001B[1;32mdef\u001B[0m \u001B[0mdata_directory\u001B[0m\u001B[1;33m(\u001B[0m\u001B[0mself\u001B[0m\u001B[1;33m)\u001B[0m \u001B[1;33m->\u001B[0m \u001B[0mstr\u001B[0m\u001B[1;33m:\u001B[0m\u001B[1;33m\u001B[0m\u001B[1;33m\u001B[0m\u001B[0m\n\u001B[1;32m---> 20\u001B[1;33m         \u001B[1;32mreturn\u001B[0m \u001B[0mself\u001B[0m\u001B[1;33m.\u001B[0m\u001B[0m_file_chooser\u001B[0m\u001B[1;33m.\u001B[0m\u001B[0mselected_path\u001B[0m \u001B[1;33m+\u001B[0m \u001B[0msep\u001B[0m\u001B[1;33m\u001B[0m\u001B[1;33m\u001B[0m\u001B[0m\n\u001B[0m\u001B[0;32m     21\u001B[0m \u001B[1;33m\u001B[0m\u001B[0m\n\u001B[0;32m     22\u001B[0m     \u001B[1;33m@\u001B[0m\u001B[0mproperty\u001B[0m\u001B[1;33m\u001B[0m\u001B[1;33m\u001B[0m\u001B[0m\n",
      "\u001B[1;31mTypeError\u001B[0m: unsupported operand type(s) for +: 'NoneType' and 'str'"
     ]
    }
   ],
   "source": [
    "import numpy as np\n",
    "from matplotlib import pyplot as plt\n",
    "x = 10 ** np.arange(-10, -1, 0.1)\n",
    "errors_l1 = np.load(f'{feat_loader.data_directory}l1_insertion_model.npy')\n",
    "errors_l2 = np.load(f'{feat_loader.data_directory}l2_insertion_model.npy')\n",
    "plt.xscale('log', subs=range(1, 6))\n",
    "plt.xlabel('Regularization Strength')\n",
    "plt.ylabel('MSE')\n",
    "plt.plot(x, errors_l1, label='L1')\n",
    "plt.plot(x, errors_l2, label='L2')\n",
    "plt.legend()\n",
    "plt.show()\n"
   ]
  },
  {
   "cell_type": "markdown",
   "metadata": {
    "pycharm": {
     "name": "#%% md\n"
    }
   },
   "source": [
    "## 2. Logistic model training: Deletions"
   ]
  },
  {
   "cell_type": "code",
   "execution_count": null,
   "metadata": {
    "pycharm": {
     "name": "#%%\n"
    }
   },
   "outputs": [],
   "source": [
    "from scripts.logistic_model.insertion import InsertionModel\n",
    "if 'feat_loader' in vars() and feat_loader.ready:\n",
    "    lr = LRWidget('Deletion Model LR')\n",
    "    ids.display(lr)\n",
    "    model = InsertionModel(feat_loader.get_data_np())\n",
    "    lr.on_model_loaded(model)\n",
    "else:\n",
    "    print(\"Please choose a training set\")\n"
   ]
  },
  {
   "cell_type": "markdown",
   "metadata": {},
   "source": [
    "### Graphing the model performance"
   ]
  },
  {
   "cell_type": "code",
   "execution_count": null,
   "metadata": {
    "pycharm": {
     "name": "#%%\n"
    }
   },
   "outputs": [],
   "source": [
    "import numpy as np\n",
    "from matplotlib import pyplot as plt\n",
    "x = 10 ** np.arange(-10, -1, 0.1)\n",
    "errors_l1 = np.load(f'{feat_loader.data_directory}l1_deletion_model.npy')\n",
    "errors_l2 = np.load(f'{feat_loader.data_directory}l2_deletion_model.npy')\n",
    "plt.xscale('log', subs=range(1, 6))\n",
    "plt.xlabel('Regularization Strength')\n",
    "plt.ylabel('MSE')\n",
    "plt.plot(x, errors_l1, label='L1')\n",
    "plt.plot(x, errors_l2, label='L2')\n",
    "plt.legend()\n",
    "plt.show()"
   ]
  },
  {
   "cell_type": "markdown",
   "metadata": {
    "pycharm": {
     "name": "#%% md\n"
    }
   },
   "source": [
    "## 3. Logistic model training: Indels"
   ]
  },
  {
   "cell_type": "code",
   "execution_count": null,
   "metadata": {
    "pycharm": {
     "name": "#%%\n"
    }
   },
   "outputs": [],
   "source": [
    "from scripts.logistic_model.indel import IndelModel\n",
    "if 'feat_loader' in vars() and feat_loader.ready:\n",
    "    lr = LRWidget('Indel Model LR')\n",
    "    ids.display(lr)\n",
    "    model = IndelModel(feat_loader.get_data_np())\n",
    "    lr.on_model_loaded(model)\n",
    "else:\n",
    "    print(\"Please choose a training set\")"
   ]
  },
  {
   "cell_type": "markdown",
   "metadata": {},
   "source": [
    "### Graphing the model performance"
   ]
  },
  {
   "cell_type": "code",
   "execution_count": null,
   "metadata": {
    "pycharm": {
     "name": "#%%\n"
    }
   },
   "outputs": [],
   "source": [
    "import numpy as np\n",
    "from matplotlib import pyplot as plt\n",
    "x = 10 ** np.arange(-10, -1, 0.1)\n",
    "errors_l1 = np.load(f'{feat_loader.data_directory}l1_indel_model.npy')\n",
    "errors_l2 = np.load(f'{feat_loader.data_directory}l2_indel_model.npy')\n",
    "plt.xscale('log', subs=range(1, 6))\n",
    "plt.xlabel('Regularization Strength')\n",
    "plt.ylabel('MSE')\n",
    "plt.plot(x, errors_l1, label='L1')\n",
    "plt.plot(x, errors_l2, label='L2')\n",
    "plt.legend()\n",
    "plt.show()"
   ]
  }
 ],
 "metadata": {
  "kernelspec": {
   "display_name": "Python 3",
   "language": "python",
   "name": "python3"
  },
  "language_info": {
   "codemirror_mode": {
    "name": "ipython",
    "version": 3
   },
   "file_extension": ".py",
   "mimetype": "text/x-python",
   "name": "python",
   "nbconvert_exporter": "python",
   "pygments_lexer": "ipython3",
   "version": "3.8.5"
  }
 },
 "nbformat": 4,
 "nbformat_minor": 1
}