{
 "cells": [
  {
   "cell_type": "markdown",
   "metadata": {},
   "source": [
    "# Logistic Model Training"
   ]
  },
  {
   "cell_type": "code",
   "execution_count": 1,
   "metadata": {
    "pycharm": {
     "name": "#%%\n"
    }
   },
   "outputs": [
    {
     "data": {
      "application/vnd.jupyter.widget-view+json": {
       "model_id": "d8ef9d54daf4442e8db7e2e8fcdabe8f",
       "version_major": 2,
       "version_minor": 0
      },
      "text/plain": [
       "FileChooser(path='C:\\Users\\jaspe\\PycharmProjects\\Lindel', filename='', show_hidden='False')"
      ]
     },
     "metadata": {},
     "output_type": "display_data"
    }
   ],
   "source": [
    "import IPython.display as ids\n",
    "\n",
    "from scripts.logistic_model.notebook.feature_loader import FeatureLoader\n",
    "from scripts.logistic_model.notebook.lr_widget import LRWidget\n",
    "\n",
    "feat_loader = FeatureLoader()\n",
    "ids.display_pretty(feat_loader.training_chooser)"
   ]
  },
  {
   "cell_type": "markdown",
   "metadata": {},
   "source": [
    "### Variables determined from the loaded dataset"
   ]
  },
  {
   "cell_type": "code",
   "execution_count": 2,
   "metadata": {
    "pycharm": {
     "name": "#%%\n"
    },
    "scrolled": true
   },
   "outputs": [
    {
     "data": {
      "application/vnd.jupyter.widget-view+json": {
       "model_id": "7857b083af3d4edfa4eb84fc947ff4f8",
       "version_major": 2,
       "version_minor": 0
      },
      "text/plain": [
       "Output(layout=Layout(border='1px solid green'), outputs=({'output_type': 'stream', 'name': 'stdout', 'text': '…"
      ]
     },
     "metadata": {},
     "output_type": "display_data"
    }
   ],
   "source": [
    "feat_loader.output"
   ]
  },
  {
   "cell_type": "markdown",
   "metadata": {
    "pycharm": {
     "name": "#%% md\n"
    }
   },
   "source": [
    "## 1. Logistic model training: Insertions"
   ]
  },
  {
   "cell_type": "code",
   "execution_count": null,
   "metadata": {
    "pycharm": {
     "name": "#%%\n"
    }
   },
   "outputs": [],
   "source": [
    "from scripts.logistic_model.insertion import InsertionModel\n",
    "if 'feat_loader' in vars() and feat_loader.ready:\n",
    "    lr = LRWidget('Insertion Model LR')\n",
    "    ids.display(lr)\n",
    "    model = InsertionModel(feat_loader.get_data_np())\n",
    "    lr.on_model_loaded(model)\n",
    "else:\n",
    "    print(\"Please choose a training set\")"
   ]
  },
  {
   "cell_type": "markdown",
   "metadata": {},
   "source": [
    "### Graphing the model performance"
   ]
  },
  {
   "cell_type": "code",
   "execution_count": null,
   "metadata": {
    "pycharm": {
     "name": "#%%\n"
    }
   },
   "outputs": [],
   "source": [
    "import numpy as np\n",
    "from matplotlib import pyplot as plt\n",
    "x = 10 ** np.arange(-10, -1, 0.1)\n",
    "errors_l1 = np.load(f'{feat_loader.data_directory}l1_insertion_model.npy')\n",
    "errors_l2 = np.load(f'{feat_loader.data_directory}l2_insertion_model.npy')\n",
    "plt.xscale('log', subs=range(1, 6))\n",
    "plt.xlabel('Regularization Strength')\n",
    "plt.ylabel('MSE')\n",
    "plt.plot(x, errors_l1, label='L1')\n",
    "plt.plot(x, errors_l2, label='L2')\n",
    "plt.legend()\n",
    "plt.show()\n"
   ]
  },
  {
   "cell_type": "markdown",
   "metadata": {
    "pycharm": {
     "name": "#%% md\n"
    }
   },
   "source": [
    "## 2. Logistic model training: Deletions"
   ]
  },
  {
   "cell_type": "code",
   "execution_count": 3,
   "metadata": {
    "pycharm": {
     "name": "#%%\n"
    }
   },
   "outputs": [
    {
     "data": {
      "application/vnd.jupyter.widget-view+json": {
       "model_id": "e4b3efbe1b8b4a338c3a79347d4760a8",
       "version_major": 2,
       "version_minor": 0
      },
      "text/plain": [
       "Linear_Regression_Widget(\n",
       "            model = HTML(value='<h2>Deletion Model LR</h2>')\n",
       "        )"
      ]
     },
     "metadata": {},
     "output_type": "display_data"
    },
    {
     "data": {
      "application/vnd.jupyter.widget-view+json": {
       "model_id": "dd2ada76c5124588b8d4064db61aeb63",
       "version_major": 2,
       "version_minor": 0
      },
      "text/plain": [
       "  0%|          | 0/90 [00:00<?, ?it/s]"
      ]
     },
     "metadata": {},
     "output_type": "display_data"
    }
   ],
   "source": [
    "from scripts.logistic_model.deletion import DeletionModel\n",
    "if 'feat_loader' in vars() and feat_loader.ready:\n",
    "    lr = LRWidget('Deletion Model LR')\n",
    "    ids.display(lr)\n",
    "    model = DeletionModel(feat_loader.get_data_np())\n",
    "    lr.on_model_loaded(model)\n",
    "else:\n",
    "    print(\"Please choose a training set\")\n"
   ]
  },
  {
   "cell_type": "markdown",
   "metadata": {},
   "source": [
    "### Graphing the model performance"
   ]
  },
  {
   "cell_type": "code",
   "execution_count": null,
   "metadata": {
    "pycharm": {
     "name": "#%%\n"
    }
   },
   "outputs": [],
   "source": [
    "import numpy as np\n",
    "from matplotlib import pyplot as plt\n",
    "x = 10 ** np.arange(-10, -1, 0.1)\n",
    "errors_l1 = np.load(f'{feat_loader.data_directory}l1_deletion_model.npy')\n",
    "errors_l2 = np.load(f'{feat_loader.data_directory}l2_deletion_model.npy')\n",
    "plt.xscale('log', subs=range(1, 6))\n",
    "plt.xlabel('Regularization Strength')\n",
    "plt.ylabel('MSE')\n",
    "plt.plot(x, errors_l1, label='L1')\n",
    "plt.plot(x, errors_l2, label='L2')\n",
    "plt.legend()\n",
    "plt.show()"
   ]
  },
  {
   "cell_type": "markdown",
   "metadata": {
    "pycharm": {
     "name": "#%% md\n"
    }
   },
   "source": [
    "## 3. Logistic model training: Indels"
   ]
  },
  {
   "cell_type": "code",
   "execution_count": null,
   "metadata": {
    "pycharm": {
     "name": "#%%\n"
    }
   },
   "outputs": [],
   "source": [
    "from scripts.logistic_model.indel import IndelModel\n",
    "if 'feat_loader' in vars() and feat_loader.ready:\n",
    "    lr = LRWidget('Indel Model LR')\n",
    "    ids.display(lr)\n",
    "    model = IndelModel(feat_loader.get_data_np())\n",
    "    lr.on_model_loaded(model)\n",
    "else:\n",
    "    print(\"Please choose a training set\")"
   ]
  },
  {
   "cell_type": "markdown",
   "metadata": {},
   "source": [
    "### Graphing the model performance"
   ]
  },
  {
   "cell_type": "code",
   "execution_count": null,
   "metadata": {
    "pycharm": {
     "name": "#%%\n"
    }
   },
   "outputs": [],
   "source": [
    "import numpy as np\n",
    "from matplotlib import pyplot as plt\n",
    "x = 10 ** np.arange(-10, -1, 0.1)\n",
    "errors_l1 = np.load(f'{feat_loader.data_directory}l1_indel_model.npy')\n",
    "errors_l2 = np.load(f'{feat_loader.data_directory}l2_indel_model.npy')\n",
    "plt.xscale('log', subs=range(1, 6))\n",
    "plt.xlabel('Regularization Strength')\n",
    "plt.ylabel('MSE')\n",
    "plt.plot(x, errors_l1, label='L1')\n",
    "plt.plot(x, errors_l2, label='L2')\n",
    "plt.legend()\n",
    "plt.show()"
   ]
  }
 ],
 "metadata": {
  "kernelspec": {
   "display_name": "Python 3",
   "language": "python",
   "name": "python3"
  },
  "language_info": {
   "codemirror_mode": {
    "name": "ipython",
    "version": 3
   },
   "file_extension": ".py",
   "mimetype": "text/x-python",
   "name": "python",
   "nbconvert_exporter": "python",
   "pygments_lexer": "ipython3",
   "version": "3.8.5"
  }
 },
 "nbformat": 4,
 "nbformat_minor": 1
}