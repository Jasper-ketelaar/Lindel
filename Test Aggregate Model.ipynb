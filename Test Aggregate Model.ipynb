{
 "cells": [
  {
   "cell_type": "code",
   "execution_count": 1,
   "metadata": {},
   "outputs": [
    {
     "data": {
      "application/vnd.jupyter.widget-view+json": {
       "model_id": "0cae50d858f74d56b4b52142e3a101ca",
       "version_major": 2,
       "version_minor": 0
      },
      "text/plain": [
       "FileChooser(path='C:\\Users\\jaspe\\PycharmProjects\\Lindel', filename='', show_hidden='False')"
      ]
     },
     "metadata": {},
     "output_type": "display_data"
    },
    {
     "data": {
      "image/png": "[encoded data removed]",
      "text/plain": [
       "<Figure size 432x288 with 1 Axes>"
      ]
     },
     "metadata": {
      "needs_background": "light"
     },
     "output_type": "display_data"
    }
   ],
   "source": [
    "import IPython.display as ids\n",
    "import matplotlib.pyplot as plt\n",
    "import numpy as np\n",
    "\n",
    "from scripts.logistic_model.notebook.file_chooser import FileChooser\n",
    "from scripts.logistic_model.test_models import run_test_set\n",
    "\n",
    "fc = FileChooser(\n",
    "            title=\"Select the test set to run the trained models on:\",\n",
    "            select_desc=\"Choose test set\",\n",
    "            change_desc=\"Choose different file\",\n",
    "            file_ends_with='.txt'\n",
    "        )\n",
    "\n",
    "def on_file_chosen(*args):\n",
    "    file = fc.selected\n",
    "    file_dir = f'{fc.selected_path}/'\n",
    "    errors = run_test_set(file, file_dir)\n",
    "\n",
    "    x_range_label = np.arange(0, 1.6, .2)\n",
    "    x_range_label_str = list(map(lambda x: str(round(x, 1)), x_range_label))\n",
    "    x_range = (10 ** -3) * x_range_label\n",
    "\n",
    "    fig, (ax) = plt.subplots(nrows=1)\n",
    "    ax.hist(errors, bins=6 * len(x_range_label), color='aqua', alpha=.4, edgecolor='grey')\n",
    "    ax.xaxis.set_ticks(x_range)\n",
    "    ax.xaxis.set_ticklabels(x_range_label_str)\n",
    "    ax.xaxis.set_ticks_position('bottom')\n",
    "    ax.set_xlim(x_range[0] - x_range[1] / 9, x_range[-1])\n",
    "    plt.xlabel(\"MSE 10e-3\")\n",
    "    plt.ylabel(\"Count\")\n",
    "    plt.show()\n",
    "\n",
    "fc.register_callback(on_file_chosen)\n",
    "ids.display(fc)"
   ]
  },
  {
   "cell_type": "code",
   "execution_count": null,
   "metadata": {},
   "outputs": [],
   "source": []
  }
 ],
 "metadata": {
  "kernelspec": {
   "display_name": "Python 3",
   "language": "python",
   "name": "python3"
  },
  "language_info": {
   "codemirror_mode": {
    "name": "ipython",
    "version": 3
   },
   "file_extension": ".py",
   "mimetype": "text/x-python",
   "name": "python",
   "nbconvert_exporter": "python",
   "pygments_lexer": "ipython3",
   "version": "3.8.5"
  }
 },
 "nbformat": 4,
 "nbformat_minor": 1
}